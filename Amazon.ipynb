{
  "nbformat": 4,
  "nbformat_minor": 0,
  "metadata": {
    "colab": {
      "name": "Amazon.ipynb",
      "provenance": []
    },
    "kernelspec": {
      "name": "python3",
      "display_name": "Python 3"
    }
  },
  "cells": [
    {
      "cell_type": "code",
      "metadata": {
        "id": "DyMFxkrdxS5d",
        "colab_type": "code",
        "colab": {}
      },
      "source": [
        "!apt-get install openjdk-8-jdk-headless -qq > /dev/null\n",
        "!wget -q https://www-us.apache.org/dist/spark/spark-2.4.5/spark-2.4.5-bin-hadoop2.7.tgz\n",
        "!tar xf spark-2.4.5-bin-hadoop2.7.tgz"
      ],
      "execution_count": 0,
      "outputs": []
    },
    {
      "cell_type": "code",
      "metadata": {
        "id": "BY3TVerexNOt",
        "colab_type": "code",
        "colab": {
          "base_uri": "https://localhost:8080/",
          "height": 238
        },
        "outputId": "9bb4c662-e2ae-4486-8515-3affb85ab8ba"
      },
      "source": [
        "# Install spark-related depdencies for Python\n",
        "!pip install -q findspark\n",
        "!pip install pyspark"
      ],
      "execution_count": 2,
      "outputs": [
        {
          "output_type": "stream",
          "text": [
            "Collecting pyspark\n",
            "\u001b[?25l  Downloading https://files.pythonhosted.org/packages/9a/5a/271c416c1c2185b6cb0151b29a91fff6fcaed80173c8584ff6d20e46b465/pyspark-2.4.5.tar.gz (217.8MB)\n",
            "\u001b[K     |████████████████████████████████| 217.8MB 54kB/s \n",
            "\u001b[?25hCollecting py4j==0.10.7\n",
            "\u001b[?25l  Downloading https://files.pythonhosted.org/packages/e3/53/c737818eb9a7dc32a7cd4f1396e787bd94200c3997c72c1dbe028587bd76/py4j-0.10.7-py2.py3-none-any.whl (197kB)\n",
            "\u001b[K     |████████████████████████████████| 204kB 44.9MB/s \n",
            "\u001b[?25hBuilding wheels for collected packages: pyspark\n",
            "  Building wheel for pyspark (setup.py) ... \u001b[?25l\u001b[?25hdone\n",
            "  Created wheel for pyspark: filename=pyspark-2.4.5-py2.py3-none-any.whl size=218257927 sha256=c1bb4a30c35216f36e0d1e55c3751ad82dc8df9317c7dc7bb61aed38175c47b9\n",
            "  Stored in directory: /root/.cache/pip/wheels/bf/db/04/61d66a5939364e756eb1c1be4ec5bdce6e04047fc7929a3c3c\n",
            "Successfully built pyspark\n",
            "Installing collected packages: py4j, pyspark\n",
            "Successfully installed py4j-0.10.7 pyspark-2.4.5\n"
          ],
          "name": "stdout"
        }
      ]
    },
    {
      "cell_type": "code",
      "metadata": {
        "id": "DqDbpkNjxorz",
        "colab_type": "code",
        "colab": {}
      },
      "source": [
        "# Set up required environment variables\n",
        "\n",
        "import os\n",
        "os.environ[\"JAVA_HOME\"] = \"/usr/lib/jvm/java-8-openjdk-amd64\"\n",
        "os.environ[\"SPARK_HOME\"] = \"/content/spark-2.4.5-bin-hadoop2.7\""
      ],
      "execution_count": 0,
      "outputs": []
    },
    {
      "cell_type": "code",
      "metadata": {
        "id": "uIx3rDtzxwQM",
        "colab_type": "code",
        "colab": {
          "base_uri": "https://localhost:8080/",
          "height": 122
        },
        "outputId": "07c1d60d-dfd7-4c99-ce11-b2dc2e56942f"
      },
      "source": [
        "# Point Colaboratory to Google Drive\n",
        "\n",
        "from google.colab import drive\n",
        "drive.mount('/content/gdrive')"
      ],
      "execution_count": 4,
      "outputs": [
        {
          "output_type": "stream",
          "text": [
            "Go to this URL in a browser: https://accounts.google.com/o/oauth2/auth?client_id=947318989803-6bn6qk8qdgf4n4g3pfee6491hc0brc4i.apps.googleusercontent.com&redirect_uri=urn%3aietf%3awg%3aoauth%3a2.0%3aoob&response_type=code&scope=email%20https%3a%2f%2fwww.googleapis.com%2fauth%2fdocs.test%20https%3a%2f%2fwww.googleapis.com%2fauth%2fdrive%20https%3a%2f%2fwww.googleapis.com%2fauth%2fdrive.photos.readonly%20https%3a%2f%2fwww.googleapis.com%2fauth%2fpeopleapi.readonly\n",
            "\n",
            "Enter your authorization code:\n",
            "··········\n",
            "Mounted at /content/gdrive\n"
          ],
          "name": "stdout"
        }
      ]
    },
    {
      "cell_type": "code",
      "metadata": {
        "id": "3dHPbpFYxBnM",
        "colab_type": "code",
        "colab": {}
      },
      "source": [
        "from pyspark import SparkContext\n",
        "from pyspark.sql import SparkSession, SQLContext\n",
        "\n",
        "from pyspark.sql.functions import UserDefinedFunction\n",
        "from pyspark.sql.types import IntegerType\n",
        "\n",
        "from pyspark.ml.feature import Tokenizer, Word2Vec\n",
        "\n",
        "# these imports are how we build and manager our data science processes: cleaning data, preparing a model,\n",
        "# executing the model, and evaluating the model.\n",
        "from pyspark.ml import Pipeline\n",
        "from pyspark.ml.classification import RandomForestClassifier\n",
        "from pyspark.ml.feature import IndexToString, StringIndexer, VectorIndexer, VectorAssembler\n",
        "from pyspark.ml.evaluation import MulticlassClassificationEvaluator\n",
        "from pyspark.mllib.evaluation import BinaryClassificationMetrics\n",
        "\n",
        "from matplotlib import pyplot as plt\n",
        "import numpy as np\n",
        "import functools\n",
        "%matplotlib inline"
      ],
      "execution_count": 0,
      "outputs": []
    },
    {
      "cell_type": "code",
      "metadata": {
        "id": "ZrqukqjJx3al",
        "colab_type": "code",
        "colab": {}
      },
      "source": [
        "\n",
        "# we use a set of constants for clarity and simplicity in managing the notebook.\n",
        "# this allows you to refer back to this cell at any time if you need to either confirm or modify any of these values.\n",
        "\n",
        "DATA_NAME = \"/content/gdrive/My Drive/Colab Datasets/AmazonInstantVideo.json\"\n",
        "APP_NAME = \"Sentiment Analysis with Amazon Reviews Exercise\"\n",
        "SPARK_URL = \"local[*]\"\n",
        "RANDOM_SEED = 141107\n",
        "TRAINING_DATA_RATIO = 0.8\n",
        "RF_NUM_TREES = 10\n",
        "RF_MAX_DEPTH = 4\n",
        "RF_NUM_BINS = 32"
      ],
      "execution_count": 0,
      "outputs": []
    },
    {
      "cell_type": "code",
      "metadata": {
        "id": "WBFlSGKdyctJ",
        "colab_type": "code",
        "colab": {}
      },
      "source": [
        "sc = SparkSession.builder.appName(APP_NAME).master(SPARK_URL).getOrCreate()\n",
        "sqlContext = SQLContext(sc)"
      ],
      "execution_count": 0,
      "outputs": []
    },
    {
      "cell_type": "code",
      "metadata": {
        "id": "6H2fL8Fay6tb",
        "colab_type": "code",
        "colab": {}
      },
      "source": [
        "amznInstantVideo = sqlContext.read.json(DATA_NAME)"
      ],
      "execution_count": 0,
      "outputs": []
    },
    {
      "cell_type": "code",
      "metadata": {
        "id": "HbzAH3hSzEkW",
        "colab_type": "code",
        "colab": {
          "base_uri": "https://localhost:8080/",
          "height": 34
        },
        "outputId": "b2c48429-4137-43ed-9c76-4a41466126ba"
      },
      "source": [
        "print(f\"Dataset shape is {amznInstantVideo.count():d} rows by {len(amznInstantVideo.columns):d} columns.\")\n"
      ],
      "execution_count": 21,
      "outputs": [
        {
          "output_type": "stream",
          "text": [
            "Dataset shape is 37126 rows by 9 columns.\n"
          ],
          "name": "stdout"
        }
      ]
    },
    {
      "cell_type": "code",
      "metadata": {
        "id": "ZA51YCyPl8KP",
        "colab_type": "code",
        "colab": {
          "base_uri": "https://localhost:8080/",
          "height": 221
        },
        "outputId": "d6957b22-11c9-4b74-9ad6-30c6020ce690"
      },
      "source": [
        "amznInstantVideo.printSchema()\n"
      ],
      "execution_count": 22,
      "outputs": [
        {
          "output_type": "stream",
          "text": [
            "root\n",
            " |-- asin: string (nullable = true)\n",
            " |-- helpful: array (nullable = true)\n",
            " |    |-- element: long (containsNull = true)\n",
            " |-- overall: double (nullable = true)\n",
            " |-- reviewText: string (nullable = true)\n",
            " |-- reviewTime: string (nullable = true)\n",
            " |-- reviewerID: string (nullable = true)\n",
            " |-- reviewerName: string (nullable = true)\n",
            " |-- summary: string (nullable = true)\n",
            " |-- unixReviewTime: long (nullable = true)\n",
            "\n"
          ],
          "name": "stdout"
        }
      ]
    },
    {
      "cell_type": "code",
      "metadata": {
        "id": "olDg7Ylol_85",
        "colab_type": "code",
        "colab": {}
      },
      "source": [
        "amznInstantVideo.registerTempTable('reviews')\n"
      ],
      "execution_count": 0,
      "outputs": []
    },
    {
      "cell_type": "code",
      "metadata": {
        "id": "cuNr5VtzmWzL",
        "colab_type": "code",
        "colab": {
          "base_uri": "https://localhost:8080/",
          "height": 187
        },
        "outputId": "e2d73214-b31e-472c-b080-0c91a0d4d4c7"
      },
      "source": [
        "sqlContext.sql(\"select overall, count(overall) as reviewCount from reviews group by overall order by overall desc\").show()\n"
      ],
      "execution_count": 24,
      "outputs": [
        {
          "output_type": "stream",
          "text": [
            "+-------+-----------+\n",
            "|overall|reviewCount|\n",
            "+-------+-----------+\n",
            "|    5.0|      20890|\n",
            "|    4.0|       8446|\n",
            "|    3.0|       4187|\n",
            "|    2.0|       1885|\n",
            "|    1.0|       1718|\n",
            "+-------+-----------+\n",
            "\n"
          ],
          "name": "stdout"
        }
      ]
    },
    {
      "cell_type": "code",
      "metadata": {
        "id": "jzMhdZOPmb67",
        "colab_type": "code",
        "colab": {}
      },
      "source": [
        "udf = UserDefinedFunction(lambda x: 1 if x > 3.0 else -1, IntegerType())\n",
        "\n",
        "amznInstantVideo = amznInstantVideo.withColumn(\"overall_recode\",udf(amznInstantVideo.overall))"
      ],
      "execution_count": 0,
      "outputs": []
    },
    {
      "cell_type": "code",
      "metadata": {
        "id": "qIcOoT5Imp8l",
        "colab_type": "code",
        "colab": {
          "base_uri": "https://localhost:8080/",
          "height": 441
        },
        "outputId": "7c7aeba1-39ba-4f88-8af8-ca8fda9277d1"
      },
      "source": [
        "plt.rcParams['figure.figsize'] = (15, 6)\n",
        " \n",
        "statuses = amznInstantVideo.groupBy('overall_recode').count().collect()\n",
        "\n",
        "categories = [i[0] for i in statuses]\n",
        "counts = [i[1] for i in statuses]\n",
        " \n",
        "ind = np.array(range(len(categories)))\n",
        "width = 0.35\n",
        "plt.bar(ind, counts, width=width, color='r')\n",
        " \n",
        "plt.ylabel('counts')\n",
        "plt.title('distribution')\n",
        "plt.xticks(ind + width/2., categories)"
      ],
      "execution_count": 26,
      "outputs": [
        {
          "output_type": "execute_result",
          "data": {
            "text/plain": [
              "([<matplotlib.axis.XTick at 0x7fc8bbea29e8>,\n",
              "  <matplotlib.axis.XTick at 0x7fc8bbea29b0>],\n",
              " [Text(0, 0, '-1'), Text(0, 0, '1')])"
            ]
          },
          "metadata": {
            "tags": []
          },
          "execution_count": 26
        },
        {
          "output_type": "display_data",
          "data": {
            "image/png": "[encoded data removed]",
            "text/plain": [
              "<Figure size 1080x432 with 1 Axes>"
            ]
          },
          "metadata": {
            "tags": [],
            "needs_background": "light"
          }
        }
      ]
    },
    {
      "cell_type": "code",
      "metadata": {
        "id": "4ZJE_4VImubJ",
        "colab_type": "code",
        "colab": {
          "base_uri": "https://localhost:8080/",
          "height": 289
        },
        "outputId": "923653af-325f-4b8d-e51c-eaa15b6e7306"
      },
      "source": [
        "amznInstantVideo.select(\"overall\", \"overall_recode\", \"summary\", \"reviewText\").show(10)\n"
      ],
      "execution_count": 27,
      "outputs": [
        {
          "output_type": "stream",
          "text": [
            "+-------+--------------+--------------------+--------------------+\n",
            "|overall|overall_recode|             summary|          reviewText|\n",
            "+-------+--------------+--------------------+--------------------+\n",
            "|    2.0|            -1|A little bit bori...|I had big expecta...|\n",
            "|    5.0|             1|Excellent Grown U...|I highly recommen...|\n",
            "|    1.0|            -1|Way too boring fo...|This one is a rea...|\n",
            "|    4.0|             1|Robson Green is m...|Mysteries are int...|\n",
            "|    5.0|             1|Robson green and ...|This show always ...|\n",
            "|    5.0|             1|I purchased the s...|I discovered this...|\n",
            "|    3.0|            -1|It takes up your ...|It beats watching...|\n",
            "|    3.0|            -1|A reasonable way ...|There are many ep...|\n",
            "|    5.0|             1|           kansas001|This is the best ...|\n",
            "|    3.0|            -1| Entertaining Comedy|Not bad.  Didn't ...|\n",
            "+-------+--------------+--------------------+--------------------+\n",
            "only showing top 10 rows\n",
            "\n"
          ],
          "name": "stdout"
        }
      ]
    },
    {
      "cell_type": "code",
      "metadata": {
        "id": "rNaOIQfMm1kV",
        "colab_type": "code",
        "colab": {}
      },
      "source": [
        "from pyspark import SparkContext\n",
        "from pyspark.mllib.feature import HashingTF\n",
        "from pyspark.mllib.feature import IDF\n",
        "from pyspark.ml.feature import CountVectorizer\n",
        "tokenizer = Tokenizer(inputCol=\"reviewText\", outputCol=\"tokenized_text\").transform(amznInstantVideo)\n",
        "# fit a CountVectorizerModel from the corpus.\n",
        "cv = CountVectorizer(inputCol=\"tokenized_text\", outputCol=\"Features\", vocabSize=20)\n",
        "\n",
        "model = cv.fit(tokenizer)\n",
        "\n",
        "cv_result = model.transform(tokenizer)"
      ],
      "execution_count": 0,
      "outputs": []
    },
    {
      "cell_type": "code",
      "metadata": {
        "id": "BaUFQbBiMoMC",
        "colab_type": "code",
        "colab": {}
      },
      "source": [
        "word2Vec = Word2Vec(vectorSize=300, seed=42, inputCol=\"tokenized_text\", outputCol=\"w2v_vector\").fit(tokenizer)\n",
        "\n",
        "w2vdf=word2Vec.transform(tokenizer)\n"
      ],
      "execution_count": 0,
      "outputs": []
    },
    {
      "cell_type": "code",
      "metadata": {
        "id": "NE4fgdenoNAz",
        "colab_type": "code",
        "colab": {
          "base_uri": "https://localhost:8080/",
          "height": 289
        },
        "outputId": "c3b80f9f-b4be-4605-a47f-080069b12513"
      },
      "source": [
        "cv_result.select(\"overall_recode\", \"reviewText\", \"tokenized_text\",\"Features\").show(10)\n"
      ],
      "execution_count": 43,
      "outputs": [
        {
          "output_type": "stream",
          "text": [
            "+--------------+--------------------+--------------------+--------------------+\n",
            "|overall_recode|          reviewText|      tokenized_text|            Features|\n",
            "+--------------+--------------------+--------------------+--------------------+\n",
            "|            -1|I had big expecta...|[i, had, big, exp...|(20,[1,3,5,7,8,9,...|\n",
            "|             1|I highly recommen...|[i, highly, recom...|(20,[1,2,3,5,7,8,...|\n",
            "|            -1|This one is a rea...|[this, one, is, a...|(20,[0,2,5,7,8,19...|\n",
            "|             1|Mysteries are int...|[mysteries, are, ...|(20,[0,1,5,6,14,1...|\n",
            "|             1|This show always ...|[this, show, alwa...|(20,[0,1,2,3,4,5,...|\n",
            "|             1|I discovered this...|[i, discovered, t...|(20,[0,1,2,3,4,5,...|\n",
            "|            -1|It beats watching...|[it, beats, watch...|(20,[2,3,4,7,9,10...|\n",
            "|            -1|There are many ep...|[there, are, many...|(20,[2,3,4,6,7,8,...|\n",
            "|             1|This is the best ...|[this, is, the, b...|(20,[0,2,3,4,5,7,...|\n",
            "|            -1|Not bad.  Didn't ...|[not, bad., , did...|(20,[0,2,4,6,14,1...|\n",
            "+--------------+--------------------+--------------------+--------------------+\n",
            "only showing top 10 rows\n",
            "\n"
          ],
          "name": "stdout"
        }
      ]
    },
    {
      "cell_type": "code",
      "metadata": {
        "id": "uUIDeQdUoS1i",
        "colab_type": "code",
        "colab": {}
      },
      "source": [
        "\n",
        "# Build the training indexers/split data/classifier\n",
        "# first we'll generate a labelIndexer\n",
        "labelIndexer = StringIndexer(inputCol=\"overall_recode\", outputCol=\"indexedLabel\").fit(cv_result)\n",
        "\n",
        "# now generate the indexed feature vector.\n",
        "featureIndexer = VectorIndexer(inputCol=\"Features\", outputCol=\"indexedFeatures\", maxCategories=4).fit(cv_result)\n",
        "    \n",
        "# Split the data into training and validation sets (30% held out for testing)\n",
        "(trainingData, testData) = cv_result.randomSplit([TRAINING_DATA_RATIO, 1 - TRAINING_DATA_RATIO])\n",
        "\n",
        "# Train a RandomForest model.\n",
        "rf = RandomForestClassifier(labelCol=\"indexedLabel\", featuresCol=\"indexedFeatures\", numTrees=RF_NUM_TREES)\n",
        "\n",
        "# Chain indexers and forest in a Pipeline\n",
        "pipeline = Pipeline(stages=[labelIndexer, featureIndexer, rf])"
      ],
      "execution_count": 0,
      "outputs": []
    },
    {
      "cell_type": "code",
      "metadata": {
        "id": "gnprC-uLoeF7",
        "colab_type": "code",
        "colab": {}
      },
      "source": [
        "\n",
        "# Train model.  This also runs the indexers.\n",
        "model = pipeline.fit(trainingData)\n",
        "\n",
        "# Make predictions.\n",
        "predictions = model.transform(testData)"
      ],
      "execution_count": 0,
      "outputs": []
    },
    {
      "cell_type": "code",
      "metadata": {
        "id": "RtQE0r18op-9",
        "colab_type": "code",
        "colab": {
          "base_uri": "https://localhost:8080/",
          "height": 51
        },
        "outputId": "96d03ddd-f4ed-42d9-afcd-f58803562ece"
      },
      "source": [
        "\n",
        "# Select (prediction, true label) and compute test error\n",
        "evaluator = MulticlassClassificationEvaluator(\n",
        "    labelCol=\"indexedLabel\", predictionCol=\"prediction\", metricName=\"accuracy\")\n",
        "accuracy = evaluator.evaluate(predictions)\n",
        "\n",
        "print(f\"Test Error = {(1.0 - accuracy):g}\")\n",
        "print(f\"Accuracy = {accuracy:g}\")"
      ],
      "execution_count": 46,
      "outputs": [
        {
          "output_type": "stream",
          "text": [
            "Test Error = 0.212077\n",
            "Accuracy = 0.787923\n"
          ],
          "name": "stdout"
        }
      ]
    },
    {
      "cell_type": "code",
      "metadata": {
        "id": "jL18hwnGouUf",
        "colab_type": "code",
        "colab": {}
      },
      "source": [
        ""
      ],
      "execution_count": 0,
      "outputs": []
    }
  ]
}